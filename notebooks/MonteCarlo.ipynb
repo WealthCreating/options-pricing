{
 "cells": [
  {
   "cell_type": "code",
   "execution_count": 1,
   "metadata": {},
   "outputs": [],
   "source": [
    "import os\n",
    "import sys\n",
    "\n",
    "sys.path.insert(0, os.path.abspath('../src'))"
   ]
  },
  {
   "cell_type": "code",
   "execution_count": 2,
   "metadata": {},
   "outputs": [],
   "source": [
    "import matplotlib.pyplot as plt\n",
    "import numpy as np\n",
    "from scipy.stats import norm\n",
    "\n",
    "from monte_carlo.options import CalcEuropeanOption"
   ]
  },
  {
   "cell_type": "markdown",
   "metadata": {},
   "source": [
    "# Monte Carlo Method Explained"
   ]
  },
  {
   "cell_type": "markdown",
   "metadata": {},
   "source": [
    "We are using a geometric Brownian Motion to model stock price evolution:\n",
    "\n",
    "\\begin{equation*}\n",
    "dS_t = \\mu S_t dt + \\sigma S_t dW_t\n",
    "\\end{equation*}\n",
    "\n",
    "The price of a vanilla option with expiry $T$ and payoff function $f$ is equal to:\n",
    "\n",
    "\\begin{equation*}\n",
    "e^{-rT} E[f(S_T)],\n",
    "\\end{equation*}\n",
    "under the risk-neutral measure.\n",
    "\n",
    "Using Ito's Lemma we can solve for $S_T$:\n",
    "\n",
    "\\begin{equation*}\n",
    "S_T = S_0 e^{(r - \\frac{1}{2} \\sigma^2) T + \\sigma \\sqrt{T} N(0, 1)},\n",
    "\\end{equation*}\n",
    "\n",
    "where $N(0, 1)$ is a standard normal distribution. Consequently we get:\n",
    "\n",
    "\\begin{equation*}\n",
    "e^{-rT} E[f(S_T)] = e^{-rT} E[f(S_0 e^{(r - \\frac{1}{2} \\sigma^2) T + \\sigma \\sqrt{T} N(0, 1)})].\n",
    "\\end{equation*}\n",
    "\n",
    "Let $X_i \\sim N(0, 1)$ be I.I.D., and let:\n",
    "\n",
    "$$Y_i = f(S_0 e^{(r - \\frac{1}{2} \\sigma^2) T + \\sigma \\sqrt{T} X_i}).$$\n",
    "\n",
    "By Law of Large Numbers:\n",
    "\n",
    "$$\n",
    "e^{-rT} lim_{n -> \\inf} \\frac{1}{n} \\sum_{i=1}^{n} Y_i =^{a.s.} e^{-rT} E[Y_1] = e^{-rT} E[f(S_T)].\n",
    "$$\n"
   ]
  },
  {
   "cell_type": "markdown",
   "metadata": {},
   "source": [
    "# Library Usage Examples"
   ]
  },
  {
   "cell_type": "code",
   "execution_count": 3,
   "metadata": {},
   "outputs": [],
   "source": [
    "num_paths = 2**20\n",
    "random_seed = 1234"
   ]
  },
  {
   "cell_type": "markdown",
   "metadata": {},
   "source": [
    "## Pricing European Call Option"
   ]
  },
  {
   "cell_type": "code",
   "execution_count": 4,
   "metadata": {},
   "outputs": [],
   "source": [
    "strike = 15\n",
    "expiry = 0.25\n",
    "spot = 30.14\n",
    "vol = 0.332\n",
    "r = 0.01"
   ]
  },
  {
   "cell_type": "code",
   "execution_count": 5,
   "metadata": {},
   "outputs": [],
   "source": [
    "stats = CalcEuropeanOption.call_price_stats(strike,\n",
    "                                      expiry, \n",
    "                                      spot,\n",
    "                                      vol, \n",
    "                                      r, \n",
    "                                      num_paths,\n",
    "                                      random_seed)\n",
    "\n",
    "results = np.array(stats.get_results_so_far())\n",
    "price_approx = results[-1][0]"
   ]
  },
  {
   "cell_type": "code",
   "execution_count": 6,
   "metadata": {},
   "outputs": [],
   "source": [
    "def euro_call_option(S, K, T, r, sigma):\n",
    "    \"\"\"\n",
    "    Exact formula for pricing of a European call option.\n",
    "    \n",
    "    Args:\n",
    "        S (float): Spot price.\n",
    "        K (float): Strike price.\n",
    "        T (float): Expiry.\n",
    "        r (float): Interest rate constant.\n",
    "        sigma (float): Stock volatility.\n",
    "        \n",
    "    Returns:\n",
    "        (float): Resulting call price.\n",
    "    \"\"\"\n",
    "    d1 = (np.log(S / K) + (r + 0.5 * sigma**2)*T) / (sigma * np.sqrt(T))\n",
    "    d2 = (np.log(S / K) + (r - 0.5 * sigma**2)*T) / (sigma * np.sqrt(T))\n",
    "\n",
    "    return S * norm.cdf(d1) - K * np.exp(-r*T) * norm.cdf(d2)\n",
    "\n",
    "price_exact = euro_call_option(spot, strike, expiry, r, vol)"
   ]
  },
  {
   "cell_type": "code",
   "execution_count": 7,
   "metadata": {},
   "outputs": [
    {
     "name": "stdout",
     "output_type": "stream",
     "text": [
      "Option Call Price (using Monte Carlo) is: 15.183104879184286\n",
      "Option Call Price (using Formula)     is: 15.177462481558173\n"
     ]
    }
   ],
   "source": [
    "print(\"Option Call Price (using Monte Carlo) is: {}\".format(price_approx))\n",
    "print(\"Option Call Price (using Formula)     is: {}\".format(price_exact))"
   ]
  },
  {
   "cell_type": "code",
   "execution_count": 8,
   "metadata": {},
   "outputs": [
    {
     "data": {
      "image/png": "[encoded data removed]",
      "text/plain": [
       "<Figure size 864x432 with 1 Axes>"
      ]
     },
     "metadata": {
      "needs_background": "light"
     },
     "output_type": "display_data"
    }
   ],
   "source": [
    "prices = results[:, 0]\n",
    "iterations = np.log2(results[:, 1])\n",
    "max_iter = max(iterations)\n",
    "\n",
    "plt.figure(figsize=(12,6))\n",
    "plt.xticks(np.arange(1, max_iter+1), [\"{:g}\".format(i) for i in np.arange(1, max_iter+1)])\n",
    "plt.hlines(price_exact, 1, max_iter, colors='g', ls='--')\n",
    "plt.plot(iterations, prices)\n",
    "\n",
    "plt.xlabel('Number of Paths (Powers of 2)')\n",
    "plt.ylabel('Call Price')\n",
    "plt.grid()\n",
    "plt.legend(['Monte Carlo Simulation', 'Exact Price'])\n",
    "plt.title('Convergence of Monte Carlo Simulation')\n",
    "plt.show()"
   ]
  }
 ],
 "metadata": {
  "kernelspec": {
   "display_name": "Python 3",
   "language": "python",
   "name": "python3"
  },
  "language_info": {
   "codemirror_mode": {
    "name": "ipython",
    "version": 3
   },
   "file_extension": ".py",
   "mimetype": "text/x-python",
   "name": "python",
   "nbconvert_exporter": "python",
   "pygments_lexer": "ipython3",
   "version": "3.7.6"
  }
 },
 "nbformat": 4,
 "nbformat_minor": 4
}
